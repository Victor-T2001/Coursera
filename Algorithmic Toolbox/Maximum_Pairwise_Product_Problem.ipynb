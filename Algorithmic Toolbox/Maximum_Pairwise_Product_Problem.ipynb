{
  "nbformat": 4,
  "nbformat_minor": 0,
  "metadata": {
    "colab": {
      "provenance": []
    },
    "kernelspec": {
      "name": "python3",
      "display_name": "Python 3"
    },
    "language_info": {
      "name": "python"
    }
  },
  "cells": [
    {
      "cell_type": "markdown",
      "source": [
        "# **Maximum Pairwise Product Problem**"
      ],
      "metadata": {
        "id": "xR_Oa6zU7DDA"
      }
    },
    {
      "cell_type": "markdown",
      "source": [
        "Find the maximum product of two distinct num-\n",
        "bers in a sequence of non-negative integers."
      ],
      "metadata": {
        "id": "piIyhDIR7AEx"
      }
    },
    {
      "cell_type": "markdown",
      "source": [
        "## **Naive Algorithm**"
      ],
      "metadata": {
        "id": "saUOKxW67Hvh"
      }
    },
    {
      "cell_type": "code",
      "execution_count": 1,
      "metadata": {
        "colab": {
          "base_uri": "https://localhost:8080/"
        },
        "id": "0OeJ-COd5HJR",
        "outputId": "d165286e-fe04-457b-dc41-5504fc3f0273"
      },
      "outputs": [
        {
          "output_type": "stream",
          "name": "stdout",
          "text": [
            "3\n",
            "1 2 5 6 10 1 1 10\n",
            "100\n"
          ]
        }
      ],
      "source": [
        "def max_pairwise_product(numbers):\n",
        "    n = len(numbers)\n",
        "    max_product = 0\n",
        "    for first in range(n):\n",
        "        for second in range(first + 1, n):\n",
        "            max_product = max(max_product,\n",
        "                numbers[first] * numbers[second])\n",
        "\n",
        "    return max_product\n",
        "\n",
        "\n",
        "if __name__ == '__main__':\n",
        "    _ = int(input())\n",
        "    input_numbers = list(map(int, input().split()))\n",
        "    print(max_pairwise_product(input_numbers))"
      ]
    },
    {
      "cell_type": "markdown",
      "source": [
        "## **Fast Algorithm**"
      ],
      "metadata": {
        "id": "hezDuaFFEXsR"
      }
    },
    {
      "cell_type": "code",
      "source": [
        "def max_pairwise_product_fast(numbers):\n",
        "  n = len(numbers)\n",
        "  index_1 = 0\n",
        "  for i in range(0,n):\n",
        "    if numbers[i] > numbers[index_1]:\n",
        "      index_1 = i\n",
        "\n",
        "  if index_1 == 0:\n",
        "    index_2 = 1\n",
        "  else:\n",
        "    index_2 = 0\n",
        "\n",
        "  for j in range(0,n):\n",
        "    if j != index_1 and numbers[j] > numbers[index_2]:\n",
        "      index_2 = j\n",
        "\n",
        "  return numbers[index_1] * numbers[index_2]"
      ],
      "metadata": {
        "id": "qdUtGawY6ydK"
      },
      "execution_count": 48,
      "outputs": []
    },
    {
      "cell_type": "code",
      "source": [
        "if __name__ == '__main__':\n",
        "    _ = int(input())\n",
        "    input_numbers = list(map(int, input().split()))\n",
        "    print(max_pairwise_product(input_numbers))"
      ],
      "metadata": {
        "colab": {
          "base_uri": "https://localhost:8080/"
        },
        "id": "TK7zBXZcKZ7j",
        "outputId": "35e84a09-5a59-4ec9-fb0f-725c8c98cfe1"
      },
      "execution_count": 35,
      "outputs": [
        {
          "output_type": "stream",
          "name": "stdout",
          "text": [
            "3\n",
            "2 1 10\n",
            "20\n"
          ]
        }
      ]
    },
    {
      "cell_type": "code",
      "source": [
        "import random"
      ],
      "metadata": {
        "id": "JPtHtw-lF9fa"
      },
      "execution_count": 5,
      "outputs": []
    },
    {
      "cell_type": "code",
      "source": [
        "def sress_test(n,m, k):\n",
        "# k - num of tests, n - max length of array, m - max value for element of the array\n",
        "  for i in range(k):\n",
        "    n = random.randint(2, n)\n",
        "    numbers_test = [random.randint(2, m+1) for j in range(n)]\n",
        "    result_1 = max_pairwise_product(numbers_test)\n",
        "    result_2 = max_pairwise_product_fast(numbers_test)\n",
        "    if result_1 != result_2:\n",
        "      print(i)\n",
        "      print(numbers_test)\n",
        "      print(\"Wrong answer: \" + str(result_1) + ' ' + str(result_2))\n",
        "  print(\"Number of test: \" + str(k))"
      ],
      "metadata": {
        "id": "r2Eq_tP2EsCO"
      },
      "execution_count": 46,
      "outputs": []
    },
    {
      "cell_type": "code",
      "source": [
        "sress_test(1000, 100, 10000)"
      ],
      "metadata": {
        "colab": {
          "base_uri": "https://localhost:8080/"
        },
        "id": "2Llrlki3HTSc",
        "outputId": "579096b8-5c27-4ae0-be30-4fec44f7531a"
      },
      "execution_count": 51,
      "outputs": [
        {
          "output_type": "stream",
          "name": "stdout",
          "text": [
            "Number of test: 10000\n"
          ]
        }
      ]
    }
  ]
}