{
  "nbformat": 4,
  "nbformat_minor": 0,
  "metadata": {
    "colab": {
      "provenance": []
    },
    "kernelspec": {
      "name": "python3",
      "display_name": "Python 3"
    },
    "language_info": {
      "name": "python"
    }
  },
  "cells": [
    {
      "cell_type": "markdown",
      "source": [
        "# **Fibonacci Number**"
      ],
      "metadata": {
        "id": "2YBLJ_P1-xRk"
      }
    },
    {
      "cell_type": "markdown",
      "source": [
        "Compute the n-th Fibonacci number.\n",
        "\n",
        "Input: An integer n.\n",
        "\n",
        "Output: n-th Fibonacci number."
      ],
      "metadata": {
        "id": "XDcR20Xw-2KT"
      }
    },
    {
      "cell_type": "markdown",
      "source": [
        "## **Naive Algorithm**"
      ],
      "metadata": {
        "id": "7W7SDmMJEUNB"
      }
    },
    {
      "cell_type": "code",
      "execution_count": 6,
      "metadata": {
        "colab": {
          "base_uri": "https://localhost:8080/"
        },
        "id": "QzSgRn7F-osG",
        "outputId": "5a7ec5a1-a894-44d8-f67e-b519b4ac4441"
      },
      "outputs": [
        {
          "output_type": "stream",
          "name": "stdout",
          "text": [
            "2\n",
            "1\n"
          ]
        }
      ],
      "source": [
        "def fibonacci_number(n):\n",
        "    if n <= 1:\n",
        "        return n\n",
        "\n",
        "    return fibonacci_number(n - 1) + fibonacci_number(n - 2)\n",
        "\n",
        "\n",
        "if __name__ == '__main__':\n",
        "    input_n = int(input())\n",
        "    print(fibonacci_number(input_n))"
      ]
    },
    {
      "cell_type": "code",
      "source": [
        "fibonacci_number(3)"
      ],
      "metadata": {
        "colab": {
          "base_uri": "https://localhost:8080/"
        },
        "id": "GyJvy7Qm-6ze",
        "outputId": "a27787ee-9249-4afb-9142-7ca5667d6e2c"
      },
      "execution_count": 2,
      "outputs": [
        {
          "output_type": "execute_result",
          "data": {
            "text/plain": [
              "2"
            ]
          },
          "metadata": {},
          "execution_count": 2
        }
      ]
    },
    {
      "cell_type": "code",
      "source": [
        "fibonacci_number(10)"
      ],
      "metadata": {
        "colab": {
          "base_uri": "https://localhost:8080/"
        },
        "id": "0pMH1k_j_HuF",
        "outputId": "373132a9-f59a-494d-d197-369dd7001c6e"
      },
      "execution_count": 4,
      "outputs": [
        {
          "output_type": "execute_result",
          "data": {
            "text/plain": [
              "55"
            ]
          },
          "metadata": {},
          "execution_count": 4
        }
      ]
    },
    {
      "cell_type": "markdown",
      "source": [
        "## **Fast Algorithm**"
      ],
      "metadata": {
        "id": "3VoXP5VEEYJz"
      }
    },
    {
      "cell_type": "code",
      "source": [
        "def fibonacci_number_fast(n):\n",
        "    if n <= 1:\n",
        "        return n\n",
        "\n",
        "    numbers = [1,1]\n",
        "    \n",
        "    for i in range(2,n):\n",
        "      numbers.append(numbers[i-1] + numbers[i-2])\n",
        "\n",
        "    return numbers[n-1]"
      ],
      "metadata": {
        "id": "XggGzcuJ_DAq"
      },
      "execution_count": 36,
      "outputs": []
    },
    {
      "cell_type": "code",
      "source": [
        "fibonacci_number_fast(4)"
      ],
      "metadata": {
        "colab": {
          "base_uri": "https://localhost:8080/"
        },
        "id": "UnjPo6Ku_hA4",
        "outputId": "60d10de5-f6f6-4747-abff-8f868779da29"
      },
      "execution_count": 22,
      "outputs": [
        {
          "output_type": "execute_result",
          "data": {
            "text/plain": [
              "3"
            ]
          },
          "metadata": {},
          "execution_count": 22
        }
      ]
    },
    {
      "cell_type": "code",
      "source": [
        "fibonacci_number_fast(10)"
      ],
      "metadata": {
        "colab": {
          "base_uri": "https://localhost:8080/"
        },
        "id": "FeZxuEwv_owg",
        "outputId": "4ae78e8c-6c86-469c-a491-997e833c685a"
      },
      "execution_count": 24,
      "outputs": [
        {
          "output_type": "execute_result",
          "data": {
            "text/plain": [
              "55"
            ]
          },
          "metadata": {},
          "execution_count": 24
        }
      ]
    },
    {
      "cell_type": "code",
      "source": [
        "fibonacci_number_fast(0)"
      ],
      "metadata": {
        "colab": {
          "base_uri": "https://localhost:8080/"
        },
        "id": "TME4oYBjBfWF",
        "outputId": "db295664-b513-4f0c-a2ae-53dfb5b38311"
      },
      "execution_count": 28,
      "outputs": [
        {
          "output_type": "execute_result",
          "data": {
            "text/plain": [
              "0"
            ]
          },
          "metadata": {},
          "execution_count": 28
        }
      ]
    },
    {
      "cell_type": "code",
      "source": [
        "fibonacci_number_fast(1)"
      ],
      "metadata": {
        "colab": {
          "base_uri": "https://localhost:8080/"
        },
        "id": "Sp6iOwEUBlJ7",
        "outputId": "83ea7db0-540b-427d-f51b-f6035f147260"
      },
      "execution_count": 29,
      "outputs": [
        {
          "output_type": "execute_result",
          "data": {
            "text/plain": [
              "1"
            ]
          },
          "metadata": {},
          "execution_count": 29
        }
      ]
    },
    {
      "cell_type": "markdown",
      "source": [
        "# **Testing**"
      ],
      "metadata": {
        "id": "v_KYl_gAAR5-"
      }
    },
    {
      "cell_type": "code",
      "source": [
        "import random"
      ],
      "metadata": {
        "id": "W_IsOaqOAmAT"
      },
      "execution_count": 25,
      "outputs": []
    },
    {
      "cell_type": "code",
      "source": [
        "def sress_test(i):\n",
        "# i - number of tests\n",
        "    for j in range(1,i+1):\n",
        "        result_1 = fibonacci_number(j)\n",
        "        result_2 = fibonacci_number_fast(j)\n",
        "        if result_1 != result_2:\n",
        "            print(j)\n",
        "            print(\"Wrong answer: \" + str(result_1) + ' ' + str(result_2))\n",
        "    print(\"Number of test: \" + str(i))"
      ],
      "metadata": {
        "id": "lLIIBIajAKDB"
      },
      "execution_count": 26,
      "outputs": []
    },
    {
      "cell_type": "code",
      "source": [
        "sress_test(20)"
      ],
      "metadata": {
        "colab": {
          "base_uri": "https://localhost:8080/"
        },
        "id": "Z6NRapqnBRkE",
        "outputId": "4f9dce2a-38b4-4555-bc0e-dcf536bb170f"
      },
      "execution_count": 37,
      "outputs": [
        {
          "output_type": "stream",
          "name": "stdout",
          "text": [
            "Number of test: 20\n"
          ]
        }
      ]
    }
  ]
}